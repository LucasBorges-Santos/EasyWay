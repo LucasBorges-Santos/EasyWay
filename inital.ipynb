{
 "cells": [
  {
   "cell_type": "code",
   "execution_count": 42,
   "metadata": {},
   "outputs": [],
   "source": [
    "import numpy as np\n",
    "import pyproj\n"
   ]
  },
  {
   "cell_type": "code",
   "execution_count": 3,
   "metadata": {},
   "outputs": [],
   "source": [
    "first_point = (-23.670466, -46.699803)\n",
    "second_point = (-23.669587, -46.700622)\n",
    "\n",
    "user_geolocation = (-23.669933, -46.700171)\n",
    "\n",
    "userx, usery = user_geolocation\n",
    "x1, y1 = first_point\n",
    "x2, y2 = second_point\n"
   ]
  },
  {
   "cell_type": "code",
   "execution_count": 10,
   "metadata": {},
   "outputs": [],
   "source": [
    "Δx = x2 - x1\n",
    "Δy = y2 - y1\n",
    "\n",
    "m = Δy/Δx\n",
    "Θ = np.arctan(m)"
   ]
  },
  {
   "cell_type": "code",
   "execution_count": 30,
   "metadata": {},
   "outputs": [
    {
     "name": "stdout",
     "output_type": "stream",
     "text": [
      "-23.670466014045548 -32.734950749669224\n"
     ]
    }
   ],
   "source": [
    "# def func(first_point, second_point, x, y):\n",
    "x, y = user_geolocation\n",
    "\n",
    "x1, y1 = first_point\n",
    "x2, y2 = second_point\n",
    "\n",
    "Δx = x2 - x1\n",
    "Δy = x2 - y1\n",
    "m = Δy/Δx\n",
    "# Θ = np.arctan(m)\n",
    "\n",
    "b = y1 - m * x1\n",
    "\n",
    "yf = m*x + b\n",
    "xf = (y - b)/m\n",
    "\n",
    "print(xf, yf)\n",
    "    "
   ]
  },
  {
   "cell_type": "code",
   "execution_count": 43,
   "metadata": {},
   "outputs": [
    {
     "name": "stderr",
     "output_type": "stream",
     "text": [
      "C:\\Users\\Lucas\\AppData\\Local\\Temp\\ipykernel_8320\\2694575554.py:9: FutureWarning: This function is deprecated. See: https://pyproj4.github.io/pyproj/stable/gotchas.html#upgrading-to-pyproj-2-from-pyproj-1\n",
      "  x1, y1 = pyproj.transform(geo_proj, utm_proj, lon1, lat1)\n",
      "C:\\Users\\Lucas\\AppData\\Local\\Temp\\ipykernel_8320\\2694575554.py:10: FutureWarning: This function is deprecated. See: https://pyproj4.github.io/pyproj/stable/gotchas.html#upgrading-to-pyproj-2-from-pyproj-1\n",
      "  x2, y2 = pyproj.transform(geo_proj, utm_proj, lon2, lat2)\n"
     ]
    },
    {
     "ename": "NameError",
     "evalue": "name 'proj' is not defined",
     "output_type": "error",
     "traceback": [
      "\u001b[1;31m---------------------------------------------------------------------------\u001b[0m",
      "\u001b[1;31mNameError\u001b[0m                                 Traceback (most recent call last)",
      "Cell \u001b[1;32mIn[43], line 31\u001b[0m\n\u001b[0;32m     28\u001b[0m lat2, lon2 \u001b[39m=\u001b[39m second_point\n\u001b[0;32m     30\u001b[0m \u001b[39m# Calcula a latitude e longitude correspondentes\u001b[39;00m\n\u001b[1;32m---> 31\u001b[0m desired_lat, desired_lon \u001b[39m=\u001b[39m find_x_y(x, lat1, lon1, lat2, lon2)\n\u001b[0;32m     33\u001b[0m \u001b[39mprint\u001b[39m(\u001b[39mf\u001b[39m\u001b[39m'\u001b[39m\u001b[39mPara latitude = \u001b[39m\u001b[39m{\u001b[39;00mdesired_lat\u001b[39m}\u001b[39;00m\u001b[39m, longitude = \u001b[39m\u001b[39m{\u001b[39;00mdesired_lon\u001b[39m}\u001b[39;00m\u001b[39m'\u001b[39m)\n",
      "Cell \u001b[1;32mIn[43], line 22\u001b[0m, in \u001b[0;36mfind_x_y\u001b[1;34m(x, lat1, lon1, lat2, lon2)\u001b[0m\n\u001b[0;32m     19\u001b[0m y \u001b[39m=\u001b[39m m\u001b[39m*\u001b[39mx \u001b[39m+\u001b[39m b\n\u001b[0;32m     21\u001b[0m \u001b[39m# Converte o valor de x de volta para coordenadas geográficas\u001b[39;00m\n\u001b[1;32m---> 22\u001b[0m lon, lat \u001b[39m=\u001b[39m proj\u001b[39m.\u001b[39mtransform(x, y, direction\u001b[39m=\u001b[39mpyproj\u001b[39m.\u001b[39menums\u001b[39m.\u001b[39mTransformDirection\u001b[39m.\u001b[39mINVERSE)\n\u001b[0;32m     24\u001b[0m \u001b[39mreturn\u001b[39;00m lat, lon\n",
      "\u001b[1;31mNameError\u001b[0m: name 'proj' is not defined"
     ]
    }
   ],
   "source": [
    "def find_x_y(x, lat1, lon1, lat2, lon2):\n",
    "    # Define a projeção para coordenadas geográficas\n",
    "    geo_proj = pyproj.Proj(proj='latlong', datum='WGS84')\n",
    "\n",
    "    # Define a projeção para coordenadas cartesianas UTM\n",
    "    utm_proj = pyproj.Proj(proj='utm', zone=30, datum='WGS84')\n",
    "\n",
    "    # Converte coordenadas geográficas para cartesianas\n",
    "    x1, y1 = pyproj.transform(geo_proj, utm_proj, lon1, lat1)\n",
    "    x2, y2 = pyproj.transform(geo_proj, utm_proj, lon2, lat2)\n",
    "    \n",
    "    # Calcula a inclinação\n",
    "    m = (y2 - y1) / (x2 - x1)\n",
    "    \n",
    "    # Calcula o coeficiente linear\n",
    "    b = y1 - m * x1\n",
    "    \n",
    "    # Calcula o valor de x\n",
    "    y = m*x + b\n",
    "    \n",
    "    # Converte o valor de x de volta para coordenadas geográficas\n",
    "    lon, lat = proj.transform(x, y, direction=pyproj.enums.TransformDirection.INVERSE)\n",
    "    \n",
    "    return lat, lon\n",
    "\n",
    "# Coordenadas geográficas dos pontos\n",
    "lat1, lon1 = first_point\n",
    "lat2, lon2 = second_point\n",
    "\n",
    "# Calcula a latitude e longitude correspondentes\n",
    "desired_lat, desired_lon = find_x_y(x, lat1, lon1, lat2, lon2)\n",
    "\n",
    "print(f'Para latitude = {desired_lat}, longitude = {desired_lon}')\n",
    "\n",
    "\n",
    "\n"
   ]
  }
 ],
 "metadata": {
  "kernelspec": {
   "display_name": "Python 3",
   "language": "python",
   "name": "python3"
  },
  "language_info": {
   "codemirror_mode": {
    "name": "ipython",
    "version": 3
   },
   "file_extension": ".py",
   "mimetype": "text/x-python",
   "name": "python",
   "nbconvert_exporter": "python",
   "pygments_lexer": "ipython3",
   "version": "3.10.11"
  },
  "orig_nbformat": 4
 },
 "nbformat": 4,
 "nbformat_minor": 2
}
