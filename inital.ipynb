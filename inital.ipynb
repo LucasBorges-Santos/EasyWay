{
 "cells": [
  {
   "cell_type": "code",
   "execution_count": 74,
   "metadata": {},
   "outputs": [],
   "source": [
    "from collections import deque\n",
    "import pandas as pd\n",
    "from haversine import haversine\n",
    "from haversine import haversine_vector, Unit\n",
    "import math\n",
    "import numpy as np\n",
    "\n",
    "def encontrar_melhor_rota(grafo, inicio, destino):\n",
    "    fila = deque([(inicio, [inicio], 0)])\n",
    "    melhor_rota = None\n",
    "    menor_custo = float('inf')\n",
    "    while fila:\n",
    "        vertice, rota_atual, custo_atual = fila.popleft()\n",
    "        if vertice == destino:\n",
    "            if custo_atual < menor_custo:\n",
    "                melhor_rota = rota_atual\n",
    "                menor_custo = custo_atual\n",
    "        if vertice in grafo:\n",
    "            for proximo, peso in grafo[vertice].items():\n",
    "                if proximo not in rota_atual:\n",
    "                    fila.append((proximo, rota_atual + [proximo], custo_atual + peso))\n",
    "    return melhor_rota, menor_custo\n",
    "\n",
    "def get_inicial_point(user_location, df_routes):\n",
    "    points = {\n",
    "        key: tuple(map(float, value.split(\", \"))) \n",
    "        for key, value in df_routes[[\"Cordenadas\", \"Nome\"]].set_index(\"Nome\").to_dict()[\"Cordenadas\"].items()\n",
    "    }\n",
    "    for key, value in points.items():\n",
    "        points[key] = haversine(user_location, value, unit=Unit.METERS)\n",
    "    return min(points, key=points.get)\n",
    "\n",
    "def get_possibilidades(df_routes):\n",
    "    routes_temp = df_routes[[\"Cordenadas\", \"Nome\", \"Acesso\"]].set_index(\"Nome\").to_dict()\n",
    "    routes_possibilidades = {}\n",
    "    config_cord = lambda cord: tuple(map(float, cord.split(\", \")))\n",
    "    for acesso_cordenada, cordenadas in routes_temp[\"Cordenadas\"].items():\n",
    "        routes_possibilidades[acesso_cordenada] = {}\n",
    "        for acesso_caminho in routes_temp[\"Acesso\"][acesso_cordenada].split(\", \"):\n",
    "            routes_possibilidades[acesso_cordenada][acesso_caminho] = haversine(\n",
    "                config_cord(cordenadas), \n",
    "                config_cord(routes_temp[\"Cordenadas\"][acesso_caminho]\n",
    "            ), unit=Unit.METERS)\n",
    "    return routes_possibilidades"
   ]
  },
  {
   "cell_type": "code",
   "execution_count": 57,
   "metadata": {},
   "outputs": [],
   "source": [
    "user_location = (-23.6698337,-46.7010033)\n",
    "df_routes = pd.read_excel(r\"C:\\Users\\Lucas\\Desktop\\EasyWay\\routes_file\\teste.xlsx\")\n",
    "\n",
    "df_routes_points = df_routes[[\"Cordenadas\", \"Nome\"]]\n",
    "points = {key: tuple(map(float, value.split(\", \"))) for key, value in df_routes[[\"Cordenadas\", \"Nome\"]].set_index(\"Nome\").to_dict()[\"Cordenadas\"].items()}"
   ]
  },
  {
   "cell_type": "code",
   "execution_count": 77,
   "metadata": {},
   "outputs": [
    {
     "name": "stdout",
     "output_type": "stream",
     "text": [
      "(['Entrada', 'Entrada A', 'A', 'B', 'B1', 'Sala teste 1'], 162.98864947610735)\n"
     ]
    }
   ],
   "source": [
    "possibilidades_com_pesos = get_possibilidades(df_routes)\n",
    "inicio = get_inicial_point(user_location, df_routes)\n",
    "destino = \"Sala teste 1\"\n",
    "print(encontrar_melhor_rota(possibilidades_com_pesos, inicio, destino))\n"
   ]
  }
 ],
 "metadata": {
  "kernelspec": {
   "display_name": "Python 3",
   "language": "python",
   "name": "python3"
  },
  "language_info": {
   "codemirror_mode": {
    "name": "ipython",
    "version": 3
   },
   "file_extension": ".py",
   "mimetype": "text/x-python",
   "name": "python",
   "nbconvert_exporter": "python",
   "pygments_lexer": "ipython3",
   "version": "3.10.11"
  },
  "orig_nbformat": 4
 },
 "nbformat": 4,
 "nbformat_minor": 2
}
